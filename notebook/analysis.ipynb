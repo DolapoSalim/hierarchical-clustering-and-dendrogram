{
 "cells": [
  {
   "cell_type": "code",
   "execution_count": null,
   "id": "1e6d31e9",
   "metadata": {},
   "outputs": [],
   "source": [
    "# Generate a sysnthetic dataset of marine ecological dataset to contain\n",
    "# '''\n",
    "#20 marine zones (Z1 to Z20)\n",
    "# 6 ecological policies\n",
    "# Binary values (0 or 1) indicating policy presence, randomly assigned using a bionomial distribution\n",
    "# '''"
   ]
  },
  {
   "cell_type": "code",
   "execution_count": 1,
   "id": "18a79815",
   "metadata": {},
   "outputs": [],
   "source": [
    "import numpy as np\n",
    "import pandas as pd\n",
    "from scipy.spatial.distance import pdist, squareform\n",
    "from scipy.cluster.hierarchy import linkage, dendrogram, fcluster\n",
    "import matplotlib.pyplot as plt"
   ]
  },
  {
   "cell_type": "code",
   "execution_count": null,
   "id": "2ac4eced",
   "metadata": {},
   "outputs": [],
   "source": [
    "# Generate dataset\n",
    "\n",
    "np.random.seed(42)  # for reproducibility\n",
    "num_zones = 20\n",
    "policies = [\n",
    "    \"coral_protection\",\n",
    "    \"fishing_ban\",\n",
    "    \"turtle_nesting\",\n",
    "    \"oil_drilling_ban\",\n",
    "    \"marine_sanctuary\",\n",
    "    \"mangrove_protection\"\n",
    "]"
   ]
  },
  {
   "cell_type": "code",
   "execution_count": null,
   "id": "c40c5971",
   "metadata": {},
   "outputs": [],
   "source": [
    "# Each policy is designed to have a 50% chance of being applied to a zone\n",
    "\n",
    "data_matrix = np.random.binomial(1, 0.5, size=(num_zones, len(policies)))\n",
    "zone_ids = [f\"Z{i+1}\" for i in range(num_zones)]"
   ]
  },
  {
   "cell_type": "code",
   "execution_count": 4,
   "id": "e7de5b13",
   "metadata": {},
   "outputs": [],
   "source": [
    "# Create DataFrame\n",
    "df = pd.DataFrame(data_matrix, columns=policies, index=zone_ids)\n",
    "df.index.name = \"Zone_ID\""
   ]
  },
  {
   "cell_type": "code",
   "execution_count": 5,
   "id": "1bcef42a",
   "metadata": {},
   "outputs": [
    {
     "data": {
      "application/vnd.microsoft.datawrangler.viewer.v0+json": {
       "columns": [
        {
         "name": "Zone_ID",
         "rawType": "object",
         "type": "string"
        },
        {
         "name": "coral_protection",
         "rawType": "int32",
         "type": "integer"
        },
        {
         "name": "fishing_ban",
         "rawType": "int32",
         "type": "integer"
        },
        {
         "name": "turtle_nesting",
         "rawType": "int32",
         "type": "integer"
        },
        {
         "name": "oil_drilling_ban",
         "rawType": "int32",
         "type": "integer"
        },
        {
         "name": "marine_sanctuary",
         "rawType": "int32",
         "type": "integer"
        },
        {
         "name": "mangrove_protection",
         "rawType": "int32",
         "type": "integer"
        }
       ],
       "ref": "290f27d0-a6f7-41c0-91c6-977df8063f9e",
       "rows": [
        [
         "Z1",
         "0",
         "1",
         "1",
         "1",
         "0",
         "0"
        ],
        [
         "Z2",
         "0",
         "1",
         "1",
         "1",
         "0",
         "1"
        ],
        [
         "Z3",
         "1",
         "0",
         "0",
         "0",
         "0",
         "1"
        ],
        [
         "Z4",
         "0",
         "0",
         "1",
         "0",
         "0",
         "0"
        ],
        [
         "Z5",
         "0",
         "1",
         "0",
         "1",
         "1",
         "0"
        ],
        [
         "Z6",
         "1",
         "0",
         "0",
         "1",
         "1",
         "1"
        ],
        [
         "Z7",
         "0",
         "0",
         "1",
         "0",
         "0",
         "0"
        ],
        [
         "Z8",
         "0",
         "1",
         "0",
         "1",
         "0",
         "1"
        ],
        [
         "Z9",
         "1",
         "0",
         "1",
         "1",
         "1",
         "1"
        ],
        [
         "Z10",
         "1",
         "1",
         "0",
         "0",
         "0",
         "0"
        ],
        [
         "Z11",
         "0",
         "0",
         "1",
         "0",
         "0",
         "1"
        ],
        [
         "Z12",
         "0",
         "1",
         "0",
         "1",
         "1",
         "0"
        ],
        [
         "Z13",
         "0",
         "1",
         "1",
         "1",
         "1",
         "0"
        ],
        [
         "Z14",
         "0",
         "0",
         "1",
         "1",
         "0",
         "0"
        ],
        [
         "Z15",
         "0",
         "0",
         "1",
         "1",
         "1",
         "0"
        ],
        [
         "Z16",
         "0",
         "1",
         "1",
         "1",
         "1",
         "0"
        ],
        [
         "Z17",
         "1",
         "0",
         "0",
         "0",
         "0",
         "1"
        ],
        [
         "Z18",
         "0",
         "1",
         "1",
         "0",
         "0",
         "1"
        ],
        [
         "Z19",
         "0",
         "0",
         "0",
         "0",
         "1",
         "1"
        ],
        [
         "Z20",
         "1",
         "1",
         "1",
         "0",
         "1",
         "1"
        ]
       ],
       "shape": {
        "columns": 6,
        "rows": 20
       }
      },
      "text/html": [
       "<div>\n",
       "<style scoped>\n",
       "    .dataframe tbody tr th:only-of-type {\n",
       "        vertical-align: middle;\n",
       "    }\n",
       "\n",
       "    .dataframe tbody tr th {\n",
       "        vertical-align: top;\n",
       "    }\n",
       "\n",
       "    .dataframe thead th {\n",
       "        text-align: right;\n",
       "    }\n",
       "</style>\n",
       "<table border=\"1\" class=\"dataframe\">\n",
       "  <thead>\n",
       "    <tr style=\"text-align: right;\">\n",
       "      <th></th>\n",
       "      <th>coral_protection</th>\n",
       "      <th>fishing_ban</th>\n",
       "      <th>turtle_nesting</th>\n",
       "      <th>oil_drilling_ban</th>\n",
       "      <th>marine_sanctuary</th>\n",
       "      <th>mangrove_protection</th>\n",
       "    </tr>\n",
       "    <tr>\n",
       "      <th>Zone_ID</th>\n",
       "      <th></th>\n",
       "      <th></th>\n",
       "      <th></th>\n",
       "      <th></th>\n",
       "      <th></th>\n",
       "      <th></th>\n",
       "    </tr>\n",
       "  </thead>\n",
       "  <tbody>\n",
       "    <tr>\n",
       "      <th>Z1</th>\n",
       "      <td>0</td>\n",
       "      <td>1</td>\n",
       "      <td>1</td>\n",
       "      <td>1</td>\n",
       "      <td>0</td>\n",
       "      <td>0</td>\n",
       "    </tr>\n",
       "    <tr>\n",
       "      <th>Z2</th>\n",
       "      <td>0</td>\n",
       "      <td>1</td>\n",
       "      <td>1</td>\n",
       "      <td>1</td>\n",
       "      <td>0</td>\n",
       "      <td>1</td>\n",
       "    </tr>\n",
       "    <tr>\n",
       "      <th>Z3</th>\n",
       "      <td>1</td>\n",
       "      <td>0</td>\n",
       "      <td>0</td>\n",
       "      <td>0</td>\n",
       "      <td>0</td>\n",
       "      <td>1</td>\n",
       "    </tr>\n",
       "    <tr>\n",
       "      <th>Z4</th>\n",
       "      <td>0</td>\n",
       "      <td>0</td>\n",
       "      <td>1</td>\n",
       "      <td>0</td>\n",
       "      <td>0</td>\n",
       "      <td>0</td>\n",
       "    </tr>\n",
       "    <tr>\n",
       "      <th>Z5</th>\n",
       "      <td>0</td>\n",
       "      <td>1</td>\n",
       "      <td>0</td>\n",
       "      <td>1</td>\n",
       "      <td>1</td>\n",
       "      <td>0</td>\n",
       "    </tr>\n",
       "    <tr>\n",
       "      <th>Z6</th>\n",
       "      <td>1</td>\n",
       "      <td>0</td>\n",
       "      <td>0</td>\n",
       "      <td>1</td>\n",
       "      <td>1</td>\n",
       "      <td>1</td>\n",
       "    </tr>\n",
       "    <tr>\n",
       "      <th>Z7</th>\n",
       "      <td>0</td>\n",
       "      <td>0</td>\n",
       "      <td>1</td>\n",
       "      <td>0</td>\n",
       "      <td>0</td>\n",
       "      <td>0</td>\n",
       "    </tr>\n",
       "    <tr>\n",
       "      <th>Z8</th>\n",
       "      <td>0</td>\n",
       "      <td>1</td>\n",
       "      <td>0</td>\n",
       "      <td>1</td>\n",
       "      <td>0</td>\n",
       "      <td>1</td>\n",
       "    </tr>\n",
       "    <tr>\n",
       "      <th>Z9</th>\n",
       "      <td>1</td>\n",
       "      <td>0</td>\n",
       "      <td>1</td>\n",
       "      <td>1</td>\n",
       "      <td>1</td>\n",
       "      <td>1</td>\n",
       "    </tr>\n",
       "    <tr>\n",
       "      <th>Z10</th>\n",
       "      <td>1</td>\n",
       "      <td>1</td>\n",
       "      <td>0</td>\n",
       "      <td>0</td>\n",
       "      <td>0</td>\n",
       "      <td>0</td>\n",
       "    </tr>\n",
       "    <tr>\n",
       "      <th>Z11</th>\n",
       "      <td>0</td>\n",
       "      <td>0</td>\n",
       "      <td>1</td>\n",
       "      <td>0</td>\n",
       "      <td>0</td>\n",
       "      <td>1</td>\n",
       "    </tr>\n",
       "    <tr>\n",
       "      <th>Z12</th>\n",
       "      <td>0</td>\n",
       "      <td>1</td>\n",
       "      <td>0</td>\n",
       "      <td>1</td>\n",
       "      <td>1</td>\n",
       "      <td>0</td>\n",
       "    </tr>\n",
       "    <tr>\n",
       "      <th>Z13</th>\n",
       "      <td>0</td>\n",
       "      <td>1</td>\n",
       "      <td>1</td>\n",
       "      <td>1</td>\n",
       "      <td>1</td>\n",
       "      <td>0</td>\n",
       "    </tr>\n",
       "    <tr>\n",
       "      <th>Z14</th>\n",
       "      <td>0</td>\n",
       "      <td>0</td>\n",
       "      <td>1</td>\n",
       "      <td>1</td>\n",
       "      <td>0</td>\n",
       "      <td>0</td>\n",
       "    </tr>\n",
       "    <tr>\n",
       "      <th>Z15</th>\n",
       "      <td>0</td>\n",
       "      <td>0</td>\n",
       "      <td>1</td>\n",
       "      <td>1</td>\n",
       "      <td>1</td>\n",
       "      <td>0</td>\n",
       "    </tr>\n",
       "    <tr>\n",
       "      <th>Z16</th>\n",
       "      <td>0</td>\n",
       "      <td>1</td>\n",
       "      <td>1</td>\n",
       "      <td>1</td>\n",
       "      <td>1</td>\n",
       "      <td>0</td>\n",
       "    </tr>\n",
       "    <tr>\n",
       "      <th>Z17</th>\n",
       "      <td>1</td>\n",
       "      <td>0</td>\n",
       "      <td>0</td>\n",
       "      <td>0</td>\n",
       "      <td>0</td>\n",
       "      <td>1</td>\n",
       "    </tr>\n",
       "    <tr>\n",
       "      <th>Z18</th>\n",
       "      <td>0</td>\n",
       "      <td>1</td>\n",
       "      <td>1</td>\n",
       "      <td>0</td>\n",
       "      <td>0</td>\n",
       "      <td>1</td>\n",
       "    </tr>\n",
       "    <tr>\n",
       "      <th>Z19</th>\n",
       "      <td>0</td>\n",
       "      <td>0</td>\n",
       "      <td>0</td>\n",
       "      <td>0</td>\n",
       "      <td>1</td>\n",
       "      <td>1</td>\n",
       "    </tr>\n",
       "    <tr>\n",
       "      <th>Z20</th>\n",
       "      <td>1</td>\n",
       "      <td>1</td>\n",
       "      <td>1</td>\n",
       "      <td>0</td>\n",
       "      <td>1</td>\n",
       "      <td>1</td>\n",
       "    </tr>\n",
       "  </tbody>\n",
       "</table>\n",
       "</div>"
      ],
      "text/plain": [
       "         coral_protection  fishing_ban  turtle_nesting  oil_drilling_ban  \\\n",
       "Zone_ID                                                                    \n",
       "Z1                      0            1               1                 1   \n",
       "Z2                      0            1               1                 1   \n",
       "Z3                      1            0               0                 0   \n",
       "Z4                      0            0               1                 0   \n",
       "Z5                      0            1               0                 1   \n",
       "Z6                      1            0               0                 1   \n",
       "Z7                      0            0               1                 0   \n",
       "Z8                      0            1               0                 1   \n",
       "Z9                      1            0               1                 1   \n",
       "Z10                     1            1               0                 0   \n",
       "Z11                     0            0               1                 0   \n",
       "Z12                     0            1               0                 1   \n",
       "Z13                     0            1               1                 1   \n",
       "Z14                     0            0               1                 1   \n",
       "Z15                     0            0               1                 1   \n",
       "Z16                     0            1               1                 1   \n",
       "Z17                     1            0               0                 0   \n",
       "Z18                     0            1               1                 0   \n",
       "Z19                     0            0               0                 0   \n",
       "Z20                     1            1               1                 0   \n",
       "\n",
       "         marine_sanctuary  mangrove_protection  \n",
       "Zone_ID                                         \n",
       "Z1                      0                    0  \n",
       "Z2                      0                    1  \n",
       "Z3                      0                    1  \n",
       "Z4                      0                    0  \n",
       "Z5                      1                    0  \n",
       "Z6                      1                    1  \n",
       "Z7                      0                    0  \n",
       "Z8                      0                    1  \n",
       "Z9                      1                    1  \n",
       "Z10                     0                    0  \n",
       "Z11                     0                    1  \n",
       "Z12                     1                    0  \n",
       "Z13                     1                    0  \n",
       "Z14                     0                    0  \n",
       "Z15                     1                    0  \n",
       "Z16                     1                    0  \n",
       "Z17                     0                    1  \n",
       "Z18                     0                    1  \n",
       "Z19                     1                    1  \n",
       "Z20                     1                    1  "
      ]
     },
     "execution_count": 5,
     "metadata": {},
     "output_type": "execute_result"
    }
   ],
   "source": [
    "df"
   ]
  },
  {
   "cell_type": "code",
   "execution_count": null,
   "id": "c2455789",
   "metadata": {},
   "outputs": [],
   "source": [
    "# Save data to CSV\n",
    "df.to_csv(\"generated_marine_zones.csv\")"
   ]
  },
  {
   "cell_type": "code",
   "execution_count": 8,
   "id": "b6103678",
   "metadata": {},
   "outputs": [],
   "source": [
    "# Step 2: Clustering analysis\n",
    "# ---------------------------\n",
    "# Compute Jaccard distance\n",
    "jaccard_dist = pdist(df, metric=\"jaccard\")"
   ]
  },
  {
   "cell_type": "code",
   "execution_count": 9,
   "id": "7d2d1fbe",
   "metadata": {},
   "outputs": [],
   "source": [
    "# Perform hierarchical clustering using complete linkage\n",
    "linked = linkage(jaccard_dist, method=\"complete\")"
   ]
  },
  {
   "cell_type": "code",
   "execution_count": 10,
   "id": "9cc95599",
   "metadata": {},
   "outputs": [
    {
     "data": {
      "image/png": "[encoded data removed]",
      "text/plain": [
       "<Figure size 1000x600 with 1 Axes>"
      ]
     },
     "metadata": {},
     "output_type": "display_data"
    }
   ],
   "source": [
    "# Plot the dendrogram\n",
    "plt.figure(figsize=(10, 6))\n",
    "dendrogram(linked,\n",
    "           labels=df.index.tolist(),\n",
    "           distance_sort=\"descending\",\n",
    "           color_threshold=0.5)\n",
    "plt.title(\"Dendrogram of Marine Zones Based on Ecological Policies\")\n",
    "plt.xlabel(\"Marine Zone\")\n",
    "plt.ylabel(\"Jaccard Distance\")\n",
    "plt.tight_layout()\n",
    "plt.savefig(\"dendrogram_marine_zones.png\")\n",
    "plt.show()"
   ]
  },
  {
   "cell_type": "code",
   "execution_count": 11,
   "id": "915bc3a3",
   "metadata": {},
   "outputs": [],
   "source": [
    "# Optional: Assign cluster labels\n",
    "cluster_labels = fcluster(linked, t=0.5, criterion='distance')\n",
    "df[\"Cluster\"] = cluster_labels"
   ]
  },
  {
   "cell_type": "code",
   "execution_count": 12,
   "id": "5fecbcf8",
   "metadata": {},
   "outputs": [],
   "source": [
    "# Save final clustered data\n",
    "df.to_csv(\"clustered_marine_zones.csv\")"
   ]
  }
 ],
 "metadata": {
  "kernelspec": {
   "display_name": "base",
   "language": "python",
   "name": "python3"
  },
  "language_info": {
   "codemirror_mode": {
    "name": "ipython",
    "version": 3
   },
   "file_extension": ".py",
   "mimetype": "text/x-python",
   "name": "python",
   "nbconvert_exporter": "python",
   "pygments_lexer": "ipython3",
   "version": "3.12.8"
  }
 },
 "nbformat": 4,
 "nbformat_minor": 5
}
